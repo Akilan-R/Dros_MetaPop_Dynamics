{
 "cells": [
  {
   "cell_type": "code",
   "execution_count": 3,
   "metadata": {},
   "outputs": [],
   "source": [
    "import numpy as np\n",
    "    "
   ]
  },
  {
   "cell_type": "code",
   "execution_count": 13,
   "metadata": {},
   "outputs": [],
   "source": [
    "##define the fixed parameters\n",
    "hatchability = 0.98  #if hatchability is density (egg or adult) depedent, then define it in the pre-adult-module or the adult-module functions \n",
    "x1 = 2.5  #parameter in finding the mean larval size\n",
    "x2 = 1  #parameter in finding the mean larval size \n",
    "x3 = 0.009 #parameter in finding the mean larval size \n",
    "sigma_size = 0.45  #parameter in assigning larval sizes by drawing from a normal distribution\n",
    "mc = 1.1 #critical size cut off of the larval stage for successful pupation (= 1.1 (JB) and 1 (FEJ))\n",
    "x4 = 1.0  #parameter in finding the adult sizes\n",
    "female_proportion = 0.5 #assign sex to the adutls \n",
    "x5 = 85 #parameter in finding fecundity\n",
    "x6 = 2  #parameter in finding fecundity\n",
    "sen_adsize = 1.7 #parameter related to sensitivity of fecundity to adult size\n",
    "sen_adden = 0.17 #parameter related to sensivity of fecundity to adult denisity"
   ]
  },
  {
   "cell_type": "code",
   "execution_count": 16,
   "metadata": {},
   "outputs": [],
   "source": [
    "##Pre-Adult-Module\n",
    "#food = larval food amt; 1.76 (LL and LH), 2.56 (HL and HH) \n",
    "def Pre_Adult_Module(numegg,food):\n",
    "    numlarva = int(hatchability*numegg)\n",
    "    mean_size = x1*(1-1/(x2+np.exp(-x3*numlarva+food)))\n",
    "    size_larva_arr = np.random.normal(mean_size, sigma_size, numlarva)\n",
    "    numadult = (size_larva_arr>=mc).sum()\n",
    "    size_adult_arr = x4*size_larva_arr[size_larva_arr>=mc]\n",
    "    return numadult, size_adult_arr\n",
    "\n",
    "##Adult-Module\n",
    "#adnut = #adult nutrition quality; 1 (LL and HL), 1.29 (HH) and 1.49 (LH)\n",
    "def Adult_Module(numadult, size_adult_arr,adnut):\n",
    "    adult_sex_arr = np.random.binomial(size=numadult, n=1, p=female_proportion) # 1 is a female and 0 a male\n",
    "    size_female_arr = size_adult_arr[adult_sex_arr == 1]\n",
    "    addens_ind_fec_arr = adnut*x5*np.log(x6+sen_adsize*size_female_arr)\n",
    "    addens_eff = 1/(1+sen_adden*numadult)\n",
    "    fecundity_arr = addens_ind_fec_arr*addens_eff\n",
    "    numegg = fecundity_arr.sum()\n",
    "    return numegg\n",
    "\n",
    "##Simulation\n",
    "def Simulation(numegg,food,adnut,generations,replicates):\n",
    "    numadult_matrix = np.zeros((generations,replicates)) #array to store the number of adults per generation\n",
    "    for i in range(replicates):\n",
    "        # 1st generation, we start with numegg eggs\n",
    "        numadult, size_adult_arr = Pre_Adult_Module(numegg,food)\n",
    "        numadult_matrix[0,i] = numadult\n",
    "        for j in range(1,generations):\n",
    "            numegg = Adult_Module(numadult,size_adult_arr,adnut)\n",
    "            numadult, size_adult_arr = Pre_Adult_Module(numegg,food)\n",
    "            numadult_matrix[j,i] = numadult\n",
    "    return numadult_matrix\n",
    " "
   ]
  },
  {
   "cell_type": "code",
   "execution_count": 17,
   "metadata": {},
   "outputs": [],
   "source": [
    "## Run some test simulations\n",
    "numadult_matrix = Simulation(150,1.76,1,49,8)\n",
    "\n"
   ]
  },
  {
   "cell_type": "code",
   "execution_count": 18,
   "metadata": {},
   "outputs": [
    {
     "data": {
      "text/plain": [
       "array([[113.,  34.,  27.,  29.,  14.,  43.,  23.,  30.],\n",
       "       [ 12.,  26., 114.,  22., 124.,  19.,  85.,  88.],\n",
       "       [ 44.,  42.,  44.,  91.,  60.,  31.,  47.,  44.],\n",
       "       [ 51.,  83.,  82.,  43.,  61.,  55.,  42.,  58.],\n",
       "       [ 39.,  61.,  25.,  69.,  21.,  34.,  71.,  41.],\n",
       "       [ 46.,  70.,  32.,  13.,  85.,  46.,  33.,  44.],\n",
       "       [ 65.,  47.,  78.,  96.,  97.,  55.,  24.,  29.],\n",
       "       [ 22.,  82.,  40.,  28.,  29.,  34.,  42.,  17.],\n",
       "       [ 76.,  37.,  22.,  83.,  50.,  75.,  32.,  22.],\n",
       "       [ 53.,  64.,  64.,  58.,  62.,  57.,  73.,  69.],\n",
       "       [ 40.,  27.,  13.,  50.,  57.,  30.,  31.,  53.],\n",
       "       [ 86., 105., 124.,  43.,  37.,  67.,  46.,  64.],\n",
       "       [ 38.,  41.,  35.,  17.,  52.,  30.,  42.,  25.],\n",
       "       [ 94.,  17.,  80.,  39.,  66.,  65.,  81.,  69.],\n",
       "       [ 25.,  45.,  34.,  87.,  34.,  31.,  29.,  46.],\n",
       "       [ 31.,  50.,  81.,  34.,  26.,  26.,  44.,  63.],\n",
       "       [100.,  12.,  16.,  88.,  48.,  81.,  44.,  32.],\n",
       "       [ 51.,  49.,  64.,  44.,  85.,  46., 129.,  58.],\n",
       "       [ 40.,  28.,  62.,  73.,  14.,  52.,  40.,  31.],\n",
       "       [ 97.,  46.,  39.,  31., 114.,  16.,  51.,  68.],\n",
       "       [ 19.,  54.,  30.,  34.,  22.,  59.,  37.,  35.],\n",
       "       [119.,  49.,  66.,  72.,  47.,  23.,  25.,  80.],\n",
       "       [ 80.,  69.,  25.,  22.,  41.,  38.,  50.,  49.],\n",
       "       [ 30.,  31., 121.,  56.,  50.,  90.,  67.,  58.],\n",
       "       [ 15., 109.,  17.,  85.,  53.,  32.,  45.,  34.],\n",
       "       [ 61.,  29.,  43.,  45.,  21., 109.,  90.,  71.],\n",
       "       [ 36.,  71.,  89.,  22.,  32.,  39.,  42.,  40.],\n",
       "       [101.,  35.,  20., 107.,  18.,  14.,  39.,  71.],\n",
       "       [ 45.,  29.,  82.,  29.,  84.,  83.,  21.,  25.],\n",
       "       [ 48.,  56.,  24.,  51.,  36.,  81.,  95., 116.],\n",
       "       [ 41.,  39.,  57.,  50.,  45.,  18.,  38.,  19.],\n",
       "       [ 52.,  38.,  42.,  49.,  43.,  72.,  78.,  72.],\n",
       "       [ 48.,  43.,  27.,  30.,  39.,  21.,  14.,  20.],\n",
       "       [ 31.,  11.,  53.,  68.,  36., 116.,  98.,  96.],\n",
       "       [ 54.,  51.,  36.,  80., 101.,  51.,  37.,  35.],\n",
       "       [ 46.,  30.,  68.,  32.,  39.,  61.,  74.,  48.],\n",
       "       [ 34.,  25.,  26.,  92.,  16.,  53.,  30.,  44.],\n",
       "       [ 76.,  60.,  78.,  65.,  37.,  18.,  81.,  92.],\n",
       "       [ 57.,  23.,  15.,  45.,  20.,  87.,  21.,  50.],\n",
       "       [ 30., 123., 106.,  49., 118.,  34., 126.,  47.],\n",
       "       [ 62.,  21.,  22.,  69.,  38.,  76.,  22.,  28.],\n",
       "       [ 32.,  22.,  39.,  21., 102.,  39.,  98.,  80.],\n",
       "       [ 78.,  72.,  63.,  64.,  37.,  12.,  33.,  32.],\n",
       "       [ 37.,  67.,  52.,  27.,  72., 114.,  21.,  49.],\n",
       "       [ 35.,  46.,  39.,  98.,  26.,  21.,  33.,  95.],\n",
       "       [ 58.,  20.,  20.,  18.,  46.,  48., 139.,  46.],\n",
       "       [ 89.,  83., 114.,  15.,  27.,  37.,  23.,  49.],\n",
       "       [ 39.,  85.,  61., 111.,  41.,  74.,  31.,  49.],\n",
       "       [ 35.,  40.,  29.,  22.,  38.,  44.,  31.,  70.]])"
      ]
     },
     "execution_count": 18,
     "metadata": {},
     "output_type": "execute_result"
    }
   ],
   "source": [
    "numadult_matrix"
   ]
  },
  {
   "cell_type": "code",
   "execution_count": null,
   "metadata": {},
   "outputs": [],
   "source": []
  }
 ],
 "metadata": {
  "kernelspec": {
   "display_name": "Python 3",
   "language": "python",
   "name": "python3"
  },
  "language_info": {
   "codemirror_mode": {
    "name": "ipython",
    "version": 3
   },
   "file_extension": ".py",
   "mimetype": "text/x-python",
   "name": "python",
   "nbconvert_exporter": "python",
   "pygments_lexer": "ipython3",
   "version": "3.10.4"
  },
  "orig_nbformat": 4
 },
 "nbformat": 4,
 "nbformat_minor": 2
}
