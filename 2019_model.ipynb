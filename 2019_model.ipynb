{
 "cells": [
  {
   "cell_type": "code",
   "execution_count": 1,
   "metadata": {},
   "outputs": [],
   "source": [
    "import numpy as np\n",
    "    "
   ]
  },
  {
   "cell_type": "code",
   "execution_count": 2,
   "metadata": {},
   "outputs": [],
   "source": [
    "##define the fixed parameters\n",
    "hatchability = 0.98  #if hatchability is density (egg or adult) depedent, then define it in the pre-adult-module or the adult-module functions \n",
    "x1 = 2.5  #parameter in finding the mean larval size\n",
    "x2 = 1  #parameter in finding the mean larval size \n",
    "x3 = 0.009 #parameter in finding the mean larval size \n",
    "sigma_size = 0.45  #parameter in assigning larval sizes by drawing from a normal distribution\n",
    "mc = 1.1 #critical size cut off of the larval stage for successful pupation (= 1.1 (JB) and 1 (FEJ))\n",
    "x4 = 1.0  #parameter in finding the adult sizes\n",
    "female_proportion = 0.5 #assign sex to the adutls \n",
    "x5 = 85 #parameter in finding fecundity\n",
    "x6 = 2  #parameter in finding fecundity\n",
    "sen_adsize = 1.7 #parameter related to sensivity of fecundity to adult size\n",
    "sen_adden = 0.17 #parameter related to sensivity of fecundity to adult denisity"
   ]
  },
  {
   "cell_type": "code",
   "execution_count": 7,
   "metadata": {},
   "outputs": [],
   "source": [
    "##Pre-Adult-Module\n",
    "#food = larval food amt; 1.76 (LL and LH), 2.56 (HL and HH) \n",
    "\n",
    "\"\"\"  \n",
    "This function takes the number of eggs in gen t and larval food amount as input and returns the number of adults in gen t and their size distribution as output.\n",
    "\n",
    "Args: \n",
    "    numegg (int): number of eggs in generation t\n",
    "    food (float): larval food amount in ml\n",
    "\n",
    "Returns:\n",
    "    numadult (int): number of adults in generation t\n",
    "    size_adult_arr (array): size distribution of adults in generation t\n",
    "\"\"\"\n",
    "def Pre_Adult_Module(numegg,food):\n",
    "    numlarva = int(hatchability*numegg)\n",
    "    mean_size = x1*(1-1/(x2+np.exp(-x3*numlarva+food)))\n",
    "    size_larva_arr = np.random.normal(mean_size, sigma_size, numlarva)\n",
    "    numadult = (size_larva_arr>=mc).sum()\n",
    "    size_adult_arr = x4*size_larva_arr[size_larva_arr>=mc]\n",
    "    return numadult, size_adult_arr\n",
    "\n",
    "##Demographic-Stochasticity\n",
    "\"\"\"  \n",
    "This function takes the number of adults in gen t, if their number is less than 8 then it is reduced to 0 by 50 % chance\n",
    "\n",
    "Args: \n",
    "    numadult (int): number of adults in generation t before demographic stochasticity\n",
    "\n",
    "Returns:\n",
    "    numadult (int): number of adults in generation t after demographic stochasticity\n",
    "\"\"\"\n",
    "def Demo_Stoch(numadult):\n",
    "    if numadult < 8:\n",
    "        numadult = np.random.binomial(size=1, n=1, p=0.5)*numadult # numadult either remains the same or is reduced to 0\n",
    "    return numadult\n",
    "\n",
    "\n",
    "\n",
    "##Adult-Module\n",
    "#adnut = #adult food nutrition quality; 1 (LL and HL), 1.29 (HH) and 1.49 (LH)\n",
    "\"\"\"  \n",
    "This function takes the number of adults in gen t, their size distribution and the nutrition quality of adult food as inputs and returns the number of eggs in gen t+1 as output.\n",
    "\n",
    "Args: \n",
    "    numadult (int): number of adults in generation t\n",
    "    size_adult_arr (array): size distribution of adults in generation t\n",
    "    adnut (float): adult food nutrition quality\n",
    "\n",
    "Returns:\n",
    "    numegg (int): number of eggs in generation t+1\n",
    "\"\"\"\n",
    "def Adult_Module(numadult, size_adult_arr,adnut):\n",
    "    if numadult == 0: # if the population goes extinct then restart it with 4 females of size 2*mc\n",
    "        numadult = 4\n",
    "        size_female_arr = 2*mc*np.ones(numadult)\n",
    "    else :    \n",
    "        adult_sex_arr = np.random.binomial(size=numadult, n=1, p=female_proportion) # 1 is a female and 0 a male\n",
    "        size_female_arr = size_adult_arr[adult_sex_arr == 1]\n",
    "    addens_ind_fec_arr = adnut*x5*np.log(x6+sen_adsize*size_female_arr)\n",
    "    addens_eff = 1/(1+sen_adden*numadult)\n",
    "    fecundity_arr = addens_ind_fec_arr*addens_eff\n",
    "    numegg = fecundity_arr.sum()\n",
    "    return numegg\n",
    "\n",
    "##Simulation\n",
    "\"\"\"  \n",
    "This function takes the number of eggs in gen 1, food amount provided to the larvae in each if the successive gens, the adult food nutrition quality in each if the successive gens, number of generations for which each simulation will be run and the number of replicate simulations that will be run as inputs and returns an array of adult population sizes for each generation (each column is a replicate simulation and each row is a generation) \n",
    "\n",
    "Args: \n",
    "    numegg (int): number of eggs in generation 1\n",
    "    food (float): larval food amount in ml\n",
    "    adnut (float): adult food nutrition quality\n",
    "    generations (int): number of generations for which each simulation will be run\n",
    "    replicates (int): number of replicate simulations that will be run\n",
    "\n",
    "Returns:\n",
    "    numadult_matrix (array): array of adult population sizes for each generation (each column is a replicate simulation and each row is a generation)\n",
    "\"\"\"\n",
    "def Simulation(numegg,food,adnut,generations,replicates):\n",
    "    numadult_matrix = np.zeros((generations,replicates)) #array to store the number of adults per generation\n",
    "    for i in range(replicates):\n",
    "        # 1st generation, we start with numegg eggs\n",
    "        numadult, size_adult_arr = Pre_Adult_Module(numegg,food)\n",
    "        numadult = Demo_Stoch(numadult)\n",
    "        if numadult == 0:\n",
    "            numadult_matrix[0,i] = 4\n",
    "        else:\n",
    "            numadult_matrix[0,i] = numadult\n",
    "        for j in range(1,generations):\n",
    "            numegg = Adult_Module(numadult,size_adult_arr,adnut)\n",
    "            numadult, size_adult_arr = Pre_Adult_Module(numegg,food)\n",
    "            numadult = Demo_Stoch(numadult)\n",
    "            if numadult == 0:\n",
    "                numadult_matrix[j,i] = 4\n",
    "            else:\n",
    "                numadult_matrix[j,i] = numadult\n",
    "    return numadult_matrix\n",
    " "
   ]
  },
  {
   "cell_type": "code",
   "execution_count": 8,
   "metadata": {},
   "outputs": [],
   "source": [
    "## Run some test simulations\n",
    "# numegg = 18 (given in sec 2.3.2); rest of the parameters as in paper; run 49 generation 8 replicates simulations for each of the 4 food regimes\n",
    "numegg = 18\n",
    "food = [1.76,2.56] #1.76 (LL and LH), 2.56 (HL and HH)\n",
    "adnut = [1,1.29,1.49] #1 (LL and HL), 1.29 (HH) and 1.49 (LH)\n",
    "generations = 49\n",
    "replicates = 8\n",
    "LH_matrix = Simulation(numegg,food[0],adnut[2],generations,replicates)\n",
    "HL_matrix = Simulation(numegg,food[1],adnut[0],generations,replicates)\n",
    "LL_matrix = Simulation(numegg,food[0],adnut[0],generations,replicates)\n",
    "HH_matrix = Simulation(numegg,food[1],adnut[1],generations,replicates)\n",
    "\n",
    "\n",
    "\n",
    "\n"
   ]
  },
  {
   "cell_type": "code",
   "execution_count": 32,
   "metadata": {},
   "outputs": [],
   "source": [
    "import matplotlib.pyplot as plt\n",
    "from matplotlib.lines import Line2D"
   ]
  },
  {
   "cell_type": "code",
   "execution_count": 33,
   "metadata": {},
   "outputs": [
    {
     "data": {
      "text/plain": [
       "<matplotlib.legend.Legend at 0x1a438899360>"
      ]
     },
     "execution_count": 33,
     "metadata": {},
     "output_type": "execute_result"
    },
    {
     "data": {
      "image/png": "[encoded data removed]",
      "text/plain": [
       "<Figure size 432x288 with 1 Axes>"
      ]
     },
     "metadata": {
      "needs_background": "light"
     },
     "output_type": "display_data"
    }
   ],
   "source": [
    "#boxplot of the population sizes\n",
    "all_points_array = np.column_stack((LH_matrix.flatten(),HL_matrix.flatten(),LL_matrix.flatten(),HH_matrix.flatten()))\n",
    "plt.boxplot(all_points_array,meanline=True,showmeans=True)\n",
    "plt.ylim(0, 250)\n",
    "plt.xticks([1, 2, 3, 4], ['LH', 'HL', 'LL', 'HH'])\n",
    "plt.ylabel('Population size')\n",
    "myHandle = [Line2D([], [], color='orange', lw = 3), Line2D([], [], color='green', linestyle = \"dashed\", lw = 3)]\n",
    "plt.legend(handles = myHandle, labels=['median', 'mean'], frameon = True, loc = 'best', fontsize = 12)\n"
   ]
  },
  {
   "cell_type": "code",
   "execution_count": 46,
   "metadata": {},
   "outputs": [],
   "source": [
    "#barplot of fluctuation index\n",
    "def Fluc_Ind(tim_ser):\n",
    "    T = len(tim_ser)\n",
    "    Nbar = np.mean(tim_ser)\n",
    "    FI = 0 #initiate\n",
    "    for i in range(T-1):\n",
    "        FI += abs(tim_ser[i+1]-tim_ser[i])\n",
    "    FI = FI/(T*Nbar)\n",
    "    return FI\n",
    "\n",
    "def FI_numadult_matrix(numadult_matrix):\n",
    "    FI_arr = np.zeros(np.shape(numadult_matrix)[1])\n",
    "    for i in range(np.shape(numadult_matrix)[1]):\n",
    "        FI_arr[i] = Fluc_Ind(numadult_matrix[:,i])\n",
    "    FI_mean = np.mean(FI_arr)\n",
    "    FI_std = np.std(FI_arr)\n",
    "    return FI_mean, FI_std\n",
    "        "
   ]
  },
  {
   "cell_type": "code",
   "execution_count": 47,
   "metadata": {},
   "outputs": [],
   "source": [
    "LH_FI_mean, LH_FI_sd = FI_numadult_matrix(LH_matrix)\n",
    "HL_FI_mean, HL_FI_sd = FI_numadult_matrix(HL_matrix)\n",
    "LL_FI_mean, LL_FI_sd = FI_numadult_matrix(LL_matrix)\n",
    "HH_FI_mean, HH_FI_sd = FI_numadult_matrix(HH_matrix)"
   ]
  },
  {
   "cell_type": "code",
   "execution_count": 50,
   "metadata": {},
   "outputs": [
    {
     "data": {
      "image/png": "[encoded data removed]",
      "text/plain": [
       "<Figure size 432x288 with 1 Axes>"
      ]
     },
     "metadata": {
      "needs_background": "light"
     },
     "output_type": "display_data"
    }
   ],
   "source": [
    "# Create lists for the plot\n",
    "regimes = ['LH', 'HL', 'LL', 'HH']\n",
    "x_pos = np.arange(len(regimes))\n",
    "mean_FI = [LH_FI_mean, HL_FI_mean, LL_FI_mean, HH_FI_mean]\n",
    "error_FI = [LH_FI_sd, HL_FI_sd, LL_FI_sd, HH_FI_sd]\n",
    "# Build the plot\n",
    "fig, ax = plt.subplots()\n",
    "ax.bar(x_pos, mean_FI, yerr=error_FI, align='center', alpha=0.5, ecolor='black', capsize=10)\n",
    "ax.set_ylabel('Fluctuation Index (FI)')\n",
    "ax.set_xticks(x_pos)\n",
    "ax.set_xticklabels(regimes)\n",
    "#ax.set_title('Coefficent of Thermal Expansion (CTE) of Three Metals')\n",
    "ax.yaxis.grid(True)\n",
    "plt.yticks(np.arange(0, 2, 0.5))\n",
    "plt.show()"
   ]
  },
  {
   "cell_type": "code",
   "execution_count": 59,
   "metadata": {},
   "outputs": [
    {
     "data": {
      "text/plain": [
       "<matplotlib.legend.Legend at 0x1a438e787c0>"
      ]
     },
     "execution_count": 59,
     "metadata": {},
     "output_type": "execute_result"
    },
    {
     "data": {
      "image/png": "[encoded data removed]",
      "text/plain": [
       "<Figure size 432x288 with 1 Axes>"
      ]
     },
     "metadata": {
      "needs_background": "light"
     },
     "output_type": "display_data"
    }
   ],
   "source": [
    "### theoretical study of the effect of life history related parameters (hatchability,mc,sen_adden,,sen_adsize) on FI\n",
    "generations = 100\n",
    "replicates = 100\n",
    "## hatchability\n",
    "hatchability_arr = np.arange(0.18,1.02,0.06)\n",
    "FI_hatchability_arr = np.zeros([8,len(hatchability_arr)])\n",
    "for i in range(len(hatchability_arr)):\n",
    "    hatchability = hatchability_arr[i]\n",
    "    LH_matrix = Simulation(numegg,food[0],adnut[2],generations,replicates)\n",
    "    HL_matrix = Simulation(numegg,food[1],adnut[0],generations,replicates)\n",
    "    LL_matrix = Simulation(numegg,food[0],adnut[0],generations,replicates)\n",
    "    HH_matrix = Simulation(numegg,food[1],adnut[1],generations,replicates)\n",
    "    LH_FI_mean, LH_FI_sd = FI_numadult_matrix(LH_matrix)\n",
    "    HL_FI_mean, HL_FI_sd = FI_numadult_matrix(HL_matrix)\n",
    "    LL_FI_mean, LL_FI_sd = FI_numadult_matrix(LL_matrix)\n",
    "    HH_FI_mean, HH_FI_sd = FI_numadult_matrix(HH_matrix)\n",
    "    FI_hatchability_arr[0,i] = LH_FI_mean\n",
    "    FI_hatchability_arr[1,i] = LH_FI_sd\n",
    "    FI_hatchability_arr[2,i] = HL_FI_mean\n",
    "    FI_hatchability_arr[3,i] = HL_FI_sd\n",
    "    FI_hatchability_arr[4,i] = LL_FI_mean\n",
    "    FI_hatchability_arr[5,i] = LL_FI_sd\n",
    "    FI_hatchability_arr[6,i] = HH_FI_mean\n",
    "    FI_hatchability_arr[7,i] = HH_FI_sd\n",
    "regimes = ['LH', 'HL', 'LL', 'HH']\n",
    "markers = ['^','o','p','*']\n",
    "plt.figure()\n",
    "for i in range(len(regimes)):\n",
    "    plt.errorbar(hatchability_arr, FI_hatchability_arr[2*i,:],FI_hatchability_arr[2*i+1,:],linestyle='solid', marker=f'{markers[i]}')\n",
    "plt.legend(regimes)    \n",
    "\n",
    "\n",
    "    "
   ]
  },
  {
   "cell_type": "code",
   "execution_count": null,
   "metadata": {},
   "outputs": [],
   "source": []
  }
 ],
 "metadata": {
  "kernelspec": {
   "display_name": "Python 3",
   "language": "python",
   "name": "python3"
  },
  "language_info": {
   "codemirror_mode": {
    "name": "ipython",
    "version": 3
   },
   "file_extension": ".py",
   "mimetype": "text/x-python",
   "name": "python",
   "nbconvert_exporter": "python",
   "pygments_lexer": "ipython3",
   "version": "3.10.4"
  },
  "orig_nbformat": 4
 },
 "nbformat": 4,
 "nbformat_minor": 2
}
