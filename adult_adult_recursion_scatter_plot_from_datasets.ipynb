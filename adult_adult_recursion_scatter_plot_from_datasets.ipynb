{
 "cells": [
  {
   "cell_type": "code",
   "execution_count": 149,
   "metadata": {},
   "outputs": [],
   "source": [
    "#first trying with 15% migration data, metapop replicate1, patch 1\n",
    "patch_1_mig15_replicate_1 = [12, 93, 113, 5, 76, 1, 19, 108, 40, 127, 83, 15, 32, 1, 104, 16, 24, 113, 6, 62, 1, 97, 2, 48, 0, 0]\n",
    "patch_2_mig15_replicate_1 = [16, 9, 90, 7, 53, 9, 15, 23, 82, 22, 77, 18, 73, 1, 107, 28, 50, 122, 0, 0, 133, 25, 60, 110, 5, 47]\n",
    "\n",
    "patch_1_mig15_replicate_2 = [14, 5, 22, 19, 48, 7, 52, 6, 32, 7, 68, 46, 34, 77, 55, 61, 3, 0, 18, 1, 66, 1, 54, 24, 106, 6]\n",
    "patch_2_mig15_replicate_2 = [17, 12, 47, 13, 66, 2, 21, 0, 0, 62, 2, 52, 1, 26, 49, 35, 4, 40, 19, 68, 1, 64, 15, 79, 7, 83]\n",
    "\n",
    "patch_1_mig15_replicate_3 = [13, 5, 65, 4, 18, 8, 99, 7, 102, 19, 26, 6, 35, 0, 90, 14, 108, 3, 37, 6, 26, 21, 147, 3, 65, 0]\n",
    "patch_2_mig15_replicate_3 = [18, 15, 31, 7, 65, 8, 99, 3, 88, 10, 25, 19, 45, 2, 107, 13, 110, 8, 136, 7, 18, 3, 96, 3, 0, 127]\n",
    "\n",
    "patch_1_mig15_replicate_4 = [17, 18, 59, 3, 14, 122, 8, 80, 3, 38, 19, 96, 3, 19, 46, 92, 6, 0, 72, 5, 116, 7, 95, 6, 119, 11]\n",
    "patch_2_mig15_replicate_4 = [19, 6, 98, 1, 0, 49, 10, 68, 19, 96, 12, 98, 6, 83, 34, 98, 3, 27, 20, 94, 6, 71, 62, 4, 13, 90]\n",
    "\n",
    "\n"
   ]
  },
  {
   "cell_type": "code",
   "execution_count": 150,
   "metadata": {},
   "outputs": [],
   "source": [
    "#making a function that extracts female migration data from the patch1, patch2 data\n",
    "migration_rate = 0.15\n",
    "def female_post_migration_time_series_data(patch_1_data, patch_2_data, migration_rate):\n",
    "\n",
    "    number_of_generations_considered = len(patch_1_data)\n",
    "\n",
    "    patch_1_data_only_females = [round(k/2) for k in patch_1_data]\n",
    "    patch_2_data_only_females = [round(k/2) for k in patch_2_data]\n",
    "\n",
    "\n",
    "    patch_1_female_post_migration_data = []\n",
    "    patch_2_female_post_migration_data = []\n",
    "\n",
    "    for k in range(number_of_generations_considered):\n",
    "\n",
    "        patch_1_female_post_migration_population = round(patch_1_data_only_females[k]*(1 - migration_rate/2) + patch_2_data_only_females[k]*(migration_rate/2))\n",
    "\n",
    "        patch_2_female_post_migration_population = round(patch_2_data_only_females[k]*(1 - migration_rate) + patch_1_data_only_females[k]*(migration_rate/2))\n",
    "        patch_1_female_post_migration_data.append(patch_1_female_post_migration_population)\n",
    "        patch_2_female_post_migration_data.append(patch_2_female_post_migration_population)\n",
    "\n",
    "    return patch_1_female_post_migration_data, patch_2_female_post_migration_data\n",
    "\n",
    "\n",
    "\n",
    "#test this function out"
   ]
  },
  {
   "cell_type": "code",
   "execution_count": 151,
   "metadata": {},
   "outputs": [],
   "source": [
    "#run the function for each replicate\n",
    "#append all female migration data (append after removing the last entry)\n",
    "#append all patch data (aappend after removing the first entry)\n",
    "\n",
    "\n",
    "#do scatter plot wiyh combined migration and comined patch data \n",
    "\n",
    "\n",
    "patch_1_mig15_replicate_1_female_post_migration, patch_2_mig15_replicate_1_female_post_migration = female_post_migration_time_series_data(patch_1_mig15_replicate_1, patch_2_mig15_replicate_1, migration_rate)\n",
    "patch_1_mig15_replicate_2_female_post_migration, patch_2_mig15_replicate_2_female_post_migration = female_post_migration_time_series_data(patch_1_mig15_replicate_2, patch_2_mig15_replicate_2, migration_rate)\n",
    "patch_1_mig15_replicate_3_female_post_migration, patch_2_mig15_replicate_3_female_post_migration = female_post_migration_time_series_data(patch_1_mig15_replicate_3, patch_2_mig15_replicate_3, migration_rate)\n",
    "patch_1_mig15_replicate_4_female_post_migration, patch_2_mig15_replicate_4_female_post_migration = female_post_migration_time_series_data(patch_1_mig15_replicate_4, patch_2_mig15_replicate_4, migration_rate)\n",
    "\n"
   ]
  },
  {
   "cell_type": "code",
   "execution_count": 152,
   "metadata": {},
   "outputs": [
    {
     "data": {
      "image/png": "[encoded data removed]",
      "text/plain": [
       "<Figure size 640x480 with 1 Axes>"
      ]
     },
     "metadata": {},
     "output_type": "display_data"
    }
   ],
   "source": [
    "import matplotlib.pyplot as plt\n",
    "\n",
    "\n",
    "plt.scatter(patch_1_mig15_replicate_1_female_post_migration[:- 1], patch_1_mig15_replicate_1[1:], color = 'blue')\n",
    "plt.scatter(patch_2_mig15_replicate_1_female_post_migration[:- 1], patch_2_mig15_replicate_1[1:], color = 'blue')\n",
    "\n",
    "\n",
    "plt.scatter(patch_1_mig15_replicate_2_female_post_migration[:- 1], patch_1_mig15_replicate_2[1:], color = 'blue')\n",
    "plt.scatter(patch_2_mig15_replicate_2_female_post_migration[:- 1], patch_2_mig15_replicate_2[1:], color = 'blue')\n",
    "\n",
    "\n",
    "plt.scatter(patch_1_mig15_replicate_3_female_post_migration[:- 1], patch_1_mig15_replicate_3[1:], color = 'blue')\n",
    "plt.scatter(patch_2_mig15_replicate_3_female_post_migration[:- 1], patch_2_mig15_replicate_3[1:], color = 'blue')\n",
    "\n",
    "\n",
    "plt.scatter(patch_1_mig15_replicate_4_female_post_migration[:- 1], patch_1_mig15_replicate_4[1:], color = 'blue')\n",
    "plt.scatter(patch_2_mig15_replicate_4_female_post_migration[:- 1], patch_2_mig15_replicate_4[1:], color = 'blue')\n",
    "\n",
    "plt.show()"
   ]
  },
  {
   "cell_type": "markdown",
   "metadata": {},
   "source": [
    "SIMULATION\n",
    "\n",
    "Experimental data has the above relation between number of females post migration and number of adults (pre-migration census)\n",
    "Seeing if simulation will produce the samme relation\n",
    "\n",
    "(how to check? - for the time being checking visually"
   ]
  },
  {
   "cell_type": "code",
   "execution_count": 153,
   "metadata": {},
   "outputs": [],
   "source": [
    "import numpy as np\n",
    "import matplotlib.pyplot as plt\n",
    "from matplotlib.lines import Line2D\n",
    "import scipy.stats as stats\n",
    "import itertools as it\n",
    "import math \n",
    "import pandas as pd\n",
    "import random as random"
   ]
  },
  {
   "cell_type": "code",
   "execution_count": 154,
   "metadata": {},
   "outputs": [],
   "source": [
    "##define the fixed parameters\n",
    "hatchability = 0.98  #if hatchability is density (egg or adult) depedent, then define it in the pre-adult-module or the adult-module functions \n",
    "x1 = 2.5  #parameter in finding the mean larval size\n",
    "x2 = 1  #parameter in finding the mean larval size \n",
    "x3 = 0.009 #parameter in finding the mean larval size \n",
    "sigma_size = 0.45  #parameter in assigning larval sizes by drawing from a normal distribution\n",
    "mc = 1.1 #critical size cut off of the larval stage for successful pupation (= 1.1 (JB) and 1 (FEJ))\n",
    "x4 = 1.0  #parameter in finding the adult sizes\n",
    "female_proportion = 0.5 #assign sex to the adutls \n",
    "x5 = 85 #parameter in finding fecundity\n",
    "x6 = 2  #parameter in finding fecundity\n",
    "sen_adsize = 1.7 #parameter related to sensivity of fecundity to adult size\n",
    "sen_adden = 0.17 #parameter related to sensivity of fecundity to adult denisity\n",
    "f = 0#migration rate"
   ]
  },
  {
   "cell_type": "code",
   "execution_count": 155,
   "metadata": {},
   "outputs": [],
   "source": [
    "##Pre-Adult-Module\n",
    "#food = larval food amt; 1.76 (LL and LH), 2.56 (HL and HH) \n",
    "\n",
    "\n",
    "def Pre_Adult_Module(numegg,food):\n",
    "\n",
    "    numlarva = int(hatchability*numegg)\n",
    "    mean_size = x1*(1-1/(x2+np.exp(-x3*numlarva+food)))\n",
    "    size_larva_arr = abs(np.random.normal(mean_size, sigma_size, numlarva))\n",
    "    numadult = (size_larva_arr>=mc).sum()\n",
    "    size_adult_arr = x4*size_larva_arr[size_larva_arr>=mc]\n",
    "    return numadult, size_adult_arr"
   ]
  },
  {
   "cell_type": "markdown",
   "metadata": {},
   "source": [
    "Tbh, I can't give the females any random set of values. Females sizes are biased to be larger if they came from a patch that had very few eggs. \n",
    "\n",
    "But I'll make the simplyifing assumption that number of larave are 80 irrespective to get okayish distribution (not too small nor too large)\n",
    "\n",
    "\n",
    "Caveat: Since there is migration here. Ex: number of females in patch 1 might be 20 (so I will give size distribution with moderate mean). But some of may have come by migration with a patch that had very eggs\n",
    "\n",
    "But guess it's okay, coz if they came from a place with few females they might make only 2 or 3 of the 20\n",
    "\n",
    "Or, patch 1 may have been 20 (nearly extinction in patch 1), all 20 may have come from patch 2 (which had 150 eggs). So it needs to be much smaller but I am giving it average size\n",
    "\n",
    "(I will probably need to check sensititivity -> how much does the female size affect the number of adults)"
   ]
  },
  {
   "cell_type": "code",
   "execution_count": 156,
   "metadata": {},
   "outputs": [],
   "source": [
    "##Pre-Adult-Module\n",
    "#food = larval food amt; 1.76 (LL and LH), 2.56 (HL and HH) \n",
    "\n",
    "#assume there are 100 larvae\n",
    "number_of_larvae_assumption = 80\n",
    "food = 1.76\n",
    "def generating_females_size_array(number_of_females):\n",
    "\n",
    "    mean_size = x1*(1-1/(x2+np.exp(-x3*number_of_larvae_assumption+food)))\n",
    "\n",
    "    #same mean size as the larval stage function\n",
    "\n",
    "    distribution_of_female_sizes = abs(np.random.normal(mean_size, sigma_size, 10*number_of_females))      #make a large distribution of female sizes\n",
    "    distribution_of_female_sizes_above_mc = x4*distribution_of_female_sizes[distribution_of_female_sizes>=mc] #choose only the ones above mc\n",
    "\n",
    "\n",
    "    randomly_chosen_female_size_distribution = random.sample(distribution_of_female_sizes_above_mc.tolist(), number_of_females)\n",
    "    #out of the large array pick the required number of females\n",
    "    return np.array(randomly_chosen_female_size_distribution)\n",
    "\n"
   ]
  },
  {
   "cell_type": "code",
   "execution_count": 157,
   "metadata": {},
   "outputs": [],
   "source": [
    "#now female will lay eggs (according to adult module)\n",
    "\n",
    "##Adult-Module\n",
    "#adnut = #adult food nutrition quality; 1 (LL and HL), 1.29 (HH) and 1.49 (LH)\n",
    "\n",
    "adnut = 1\n",
    "\n",
    "\n",
    "def Adult_Module(size_female_arr):\n",
    "\n",
    "    #assumption that number of adult is twice the number of females\n",
    "    \n",
    "    numadult = 2*len(size_female_arr)\n",
    "\n",
    "    addens_ind_fec_arr = adnut*x5*np.log(x6+sen_adsize*size_female_arr)\n",
    "    addens_eff = 1/(1+sen_adden*numadult)\n",
    "    fecundity_arr = addens_eff*addens_ind_fec_arr\n",
    "    fecundity_arr = fecundity_arr.astype(int)\n",
    "    numegg = fecundity_arr.sum()\n",
    "    return numegg\n",
    "\n",
    "\n",
    "#out of eggs use pre-adult module to get number of adults\n",
    "\n",
    "##Pre-Adult-Module\n",
    "#food = larval food amt; 1.76 (LL and LH), 2.56 (HL and HH) \n",
    "\n",
    "def Pre_Adult_Module(numegg):\n",
    "    \"\"\"  \n",
    "This function takes the number of eggs in gen t and larval food amount as input and returns the number of adults in gen t and their size distribution as output.\n",
    "\n",
    "Args: \n",
    "    numegg (int): number of eggs in generation t\n",
    "    food (float): larval food amount in ml\n",
    "\n",
    "Returns:\n",
    "    numadult (int): number of adults in generation t\n",
    "    size_adult_arr (array): size distribution of adults in generation t\n",
    "\"\"\"\n",
    "    numlarva = int(hatchability*numegg)\n",
    "    mean_size = x1*(1-1/(x2+np.exp(-x3*numlarva+food)))\n",
    "    size_larva_arr = abs(np.random.normal(mean_size, sigma_size, numlarva))\n",
    "    numadult = (size_larva_arr>=mc).sum()\n",
    "    # size_adult_arr = x4*size_larva_arr[size_larva_arr>=mc]\n",
    "    return numadult\n",
    "\n"
   ]
  },
  {
   "cell_type": "code",
   "execution_count": 158,
   "metadata": {},
   "outputs": [
    {
     "name": "stdout",
     "output_type": "stream",
     "text": [
      "52.94\n"
     ]
    }
   ],
   "source": [
    "#function that will combine all these three. Females -> Assign Sizes -> females eggs -> larave -> adults\n",
    "#check adults in the next generation\n",
    "\n",
    "def simulation_females_post_migration_to_number_of_adults(number_of_females):\n",
    "\n",
    "   female_size_array =  generating_females_size_array(number_of_females)\n",
    "   number_of_eggs =  Adult_Module(female_size_array)\n",
    "   number_of_adults = Pre_Adult_Module(number_of_eggs)\n",
    "\n",
    "   return number_of_adults\n",
    "\n",
    "\n",
    "def simulation_avg_output_post_migration_to_number_of_adults(number_of_females):\n",
    "   total = 0\n",
    "   for x in range(0,50):\n",
    "      number_of_adults = simulation_females_post_migration_to_number_of_adults(number_of_females)\n",
    "      total = total + number_of_adults\n",
    "   average_number_of_adults = total/50\n",
    "\n",
    "   return average_number_of_adults\n",
    "\n",
    "print(simulation_avg_output_post_migration_to_number_of_adults(10))"
   ]
  },
  {
   "cell_type": "code",
   "execution_count": 159,
   "metadata": {},
   "outputs": [
    {
     "name": "stdout",
     "output_type": "stream",
     "text": [
      "25\n",
      "[82.04, 29.46, 29.62, 125.7, 30.82, 0.0, 52.82, 30.9, 33.48, 30.34, 29.34, 62.2, 36.18, 0.0, 29.12, 63.88, 42.74, 30.66, 121.68, 32.14, 92.16, 29.78, 120.14, 33.0, 0.0]\n"
     ]
    }
   ],
   "source": [
    "#given patch migration data from experiment what will simulation predict\n",
    "\n",
    "simulated_patch_1_mig15_replicate_1= [simulation_avg_output_post_migration_to_number_of_adults(x) for x in patch_1_mig15_replicate_1_female_post_migration[:- 1]]\n",
    "simulated_patch_2_mig15_replicate_1= [simulation_avg_output_post_migration_to_number_of_adults(x) for x in patch_1_mig15_replicate_2_female_post_migration[:- 1]]\n",
    "\n",
    "print(len(simulated_patch_1_mig15_replicate_1))\n",
    "print(simulated_patch_1_mig15_replicate_1)\n"
   ]
  },
  {
   "cell_type": "code",
   "execution_count": 160,
   "metadata": {},
   "outputs": [
    {
     "data": {
      "image/png": "[encoded data removed]",
      "text/plain": [
       "<Figure size 640x480 with 1 Axes>"
      ]
     },
     "metadata": {},
     "output_type": "display_data"
    }
   ],
   "source": [
    "plt.scatter(simulated_patch_1_mig15_replicate_1, patch_1_mig15_replicate_1[1:], color = 'blue')\n",
    "plt.scatter(patch_1_mig15_replicate_1_female_post_migration[:- 1], patch_1_mig15_replicate_1[1:], color = 'red')\n",
    "\n",
    "plt.scatter(simulated_patch_2_mig15_replicate_1, patch_2_mig15_replicate_1[1:], color = 'blue')\n",
    "plt.scatter(patch_2_mig15_replicate_1_female_post_migration[:- 1], patch_2_mig15_replicate_1[1:], color = 'red')\n",
    "\n",
    "plt.show()\n",
    "\n",
    "\n"
   ]
  },
  {
   "cell_type": "code",
   "execution_count": 161,
   "metadata": {},
   "outputs": [
    {
     "data": {
      "text/plain": [
       "{'whiskers': [<matplotlib.lines.Line2D at 0x272bf83e990>,\n",
       "  <matplotlib.lines.Line2D at 0x272bf83f410>,\n",
       "  <matplotlib.lines.Line2D at 0x272bf84a450>,\n",
       "  <matplotlib.lines.Line2D at 0x272bf84ad10>],\n",
       " 'caps': [<matplotlib.lines.Line2D at 0x272bf83fcd0>,\n",
       "  <matplotlib.lines.Line2D at 0x272bf8484d0>,\n",
       "  <matplotlib.lines.Line2D at 0x272bf84b4d0>,\n",
       "  <matplotlib.lines.Line2D at 0x272bf84bc50>],\n",
       " 'boxes': [<matplotlib.lines.Line2D at 0x272bf83e010>,\n",
       "  <matplotlib.lines.Line2D at 0x272bf849dd0>],\n",
       " 'medians': [<matplotlib.lines.Line2D at 0x272bf848e10>,\n",
       "  <matplotlib.lines.Line2D at 0x272bf858450>],\n",
       " 'fliers': [<matplotlib.lines.Line2D at 0x272bf848d10>,\n",
       "  <matplotlib.lines.Line2D at 0x272bf848c10>],\n",
       " 'means': []}"
      ]
     },
     "execution_count": 161,
     "metadata": {},
     "output_type": "execute_result"
    },
    {
     "data": {
      "image/png": "[encoded data removed]",
      "text/plain": [
       "<Figure size 640x480 with 1 Axes>"
      ]
     },
     "metadata": {},
     "output_type": "display_data"
    },
    {
     "data": {
      "image/png": "[encoded data removed]",
      "text/plain": [
       "<Figure size 640x480 with 1 Axes>"
      ]
     },
     "metadata": {},
     "output_type": "display_data"
    }
   ],
   "source": [
    "#plotting boxplots - comparing simulated time series vs experimenatal time series\n",
    "\n",
    "labels = ['simulated', 'experiment']\n",
    "\n",
    "simulated_vs_experiment_data_patch_1_replicate_1 = [simulated_patch_1_mig15_replicate_1, patch_1_mig15_replicate_1[1:]]\n",
    "plt.boxplot(simulated_vs_experiment_data_patch_1_replicate_1, labels = labels)\n",
    "\n",
    "plt.figure()\n",
    "simulated_vs_experiment_data_patch_2_replicate_1 = [simulated_patch_2_mig15_replicate_1,  patch_1_mig15_replicate_1[1:]]\n",
    "plt.boxplot(simulated_vs_experiment_data_patch_2_replicate_1, labels = labels)\n"
   ]
  }
 ],
 "metadata": {
  "kernelspec": {
   "display_name": "Python 3",
   "language": "python",
   "name": "python3"
  },
  "language_info": {
   "codemirror_mode": {
    "name": "ipython",
    "version": 3
   },
   "file_extension": ".py",
   "mimetype": "text/x-python",
   "name": "python",
   "nbconvert_exporter": "python",
   "pygments_lexer": "ipython3",
   "version": "3.11.3"
  }
 },
 "nbformat": 4,
 "nbformat_minor": 2
}
