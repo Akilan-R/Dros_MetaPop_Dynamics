{
 "cells": [
  {
   "cell_type": "code",
   "execution_count": 4,
   "metadata": {},
   "outputs": [],
   "source": [
    "import numpy as np\n",
    "import matplotlib.pyplot as plt\n",
    "from matplotlib.lines import Line2D\n",
    "import scipy.stats as stats\n",
    "import itertools as it\n",
    "import math \n",
    "import pandas as pd"
   ]
  },
  {
   "cell_type": "code",
   "execution_count": 5,
   "metadata": {},
   "outputs": [],
   "source": [
    "##define the fixed parameters\n",
    "hatchability = 0.98  #if hatchability is density (egg or adult) depedent, then define it in the pre-adult-module or the adult-module functions \n",
    "x1 = 2.5  #parameter in finding the mean larval size\n",
    "x2 = 1  #parameter in finding the mean larval size \n",
    "x3 = 0.009 #parameter in finding the mean larval size \n",
    "sigma_size = 0.45  #parameter in assigning larval sizes by drawing from a normal distribution\n",
    "mc = 1.1 #critical size cut off of the larval stage for successful pupation (= 1.1 (JB) and 1 (FEJ))\n",
    "x4 = 1.0  #parameter in finding the adult sizes\n",
    "female_proportion = 0.5 #assign sex to the adutls \n",
    "x5 = 85 #parameter in finding fecundity\n",
    "x6 = 2  #parameter in finding fecundity\n",
    "sen_adsize = 1.7 #parameter related to sensivity of fecundity to adult size\n",
    "sen_adden = 0.17 #parameter related to sensivity of fecundity to adult denisity\n",
    "f = 0#migration rate"
   ]
  },
  {
   "cell_type": "code",
   "execution_count": 6,
   "metadata": {},
   "outputs": [
    {
     "name": "stderr",
     "output_type": "stream",
     "text": [
      "C:\\Users\\HP\\AppData\\Local\\Temp\\ipykernel_8472\\2271222072.py:26: RuntimeWarning: invalid value encountered in scalar divide\n",
      "  survivorship = average_number_of_adults/numegg\n"
     ]
    },
    {
     "name": "stdout",
     "output_type": "stream",
     "text": [
      "[0.         0.79       0.887      0.922      0.939      0.9456\n",
      " 0.953      0.95371429 0.9555     0.95244444 0.9544     0.93690909\n",
      " 0.93616667 0.93492308 0.93314286 0.93533333 0.932375   0.92635294\n",
      " 0.92055556 0.92147368 0.9128     0.9        0.891      0.88869565\n",
      " 0.87541667 0.86984    0.85984615 0.84748148 0.83778571 0.82165517\n",
      " 0.8096     0.78690323 0.767      0.75927273 0.74252941 0.72428571\n",
      " 0.70283333 0.67805405 0.65847368 0.63410256]\n",
      "0.8570782268309722\n"
     ]
    },
    {
     "data": {
      "image/png": "[encoded data removed]",
      "text/plain": [
       "<Figure size 640x480 with 1 Axes>"
      ]
     },
     "metadata": {},
     "output_type": "display_data"
    }
   ],
   "source": [
    "#I will just see the realation the surviorship with different number of larave and adults\n",
    "\n",
    "##Pre-Adult-Module\n",
    "#food = larval food amt; 1.76 (LL and LH), 2.56 (HL and HH) \n",
    "\n",
    "food = 1.76\n",
    "\n",
    "def Pre_Adult_Module(numegg,food):\n",
    "    \n",
    "    numlarva = int(hatchability*numegg)\n",
    "    mean_size = x1*(1-1/(x2+np.exp(-x3*numlarva+food)))\n",
    "    size_larva_arr = abs(np.random.normal(mean_size, sigma_size, numlarva))\n",
    "    numadult = (size_larva_arr>=mc).sum()\n",
    "    if np.isnan(numadult):\n",
    "        numadult = 0\n",
    "    # size_adult_arr = x4*size_larva_arr[size_larva_arr>=mc]\n",
    "    return numadult\n",
    "\n",
    "\n",
    "def average_survivorship(numegg,food):\n",
    "\n",
    "    adult_number = 0\n",
    "    for i in range(0, 100):\n",
    "        adult_number = adult_number + Pre_Adult_Module(numegg,food)\n",
    "    average_number_of_adults = adult_number/100\n",
    "    survivorship = average_number_of_adults/numegg\n",
    "    return survivorship\n",
    "\n",
    "\n",
    "number_of_eggs = np.arange(0, 200, 5)\n",
    "survivorship_for_egg_number = []\n",
    "\n",
    "for numegg in number_of_eggs:\n",
    "    survivorship_for_egg_number.append(average_survivorship(numegg,food))\n",
    "\n",
    "survivorship_for_egg_number = np.nan_to_num(survivorship_for_egg_number)\n",
    "\n",
    "plt.plot(number_of_eggs, survivorship_for_egg_number)\n",
    "\n",
    "\n",
    "print(survivorship_for_egg_number)\n",
    "print(np.mean(survivorship_for_egg_number)/0.98)\n"
   ]
  },
  {
   "cell_type": "markdown",
   "metadata": {},
   "source": [
    "Change the code such that it gives the number of adults vs number of eggs?\n",
    "\n",
    "Or, Do a 2nd order degree polynomial to estimate a function that gives the number of eggs with\n",
    "Then find the solution of the polynomia with +ve root to generate a cirve"
   ]
  }
 ],
 "metadata": {
  "kernelspec": {
   "display_name": "Python 3",
   "language": "python",
   "name": "python3"
  },
  "language_info": {
   "codemirror_mode": {
    "name": "ipython",
    "version": 3
   },
   "file_extension": ".py",
   "mimetype": "text/x-python",
   "name": "python",
   "nbconvert_exporter": "python",
   "pygments_lexer": "ipython3",
   "version": "3.11.3"
  }
 },
 "nbformat": 4,
 "nbformat_minor": 2
}
